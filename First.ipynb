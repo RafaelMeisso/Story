{
  "nbformat": 4,
  "nbformat_minor": 0,
  "metadata": {
    "colab": {
      "provenance": [],
      "machine_shape": "hm",
      "gpuType": "A100",
      "mount_file_id": "1RqhPQCxzTk3advTvRYvPxXQr_UL_Ue6N",
      "authorship_tag": "ABX9TyP6CoeWVTPRQnSFAryAO0ue",
      "include_colab_link": true
    },
    "kernelspec": {
      "name": "python3",
      "display_name": "Python 3"
    },
    "language_info": {
      "name": "python"
    },
    "accelerator": "GPU"
  },
  "cells": [
    {
      "cell_type": "markdown",
      "metadata": {
        "id": "view-in-github",
        "colab_type": "text"
      },
      "source": [
        "<a href=\"https://colab.research.google.com/github/RafaelMeisso/Story/blob/main/First.ipynb\" target=\"_parent\"><img src=\"https://colab.research.google.com/assets/colab-badge.svg\" alt=\"Open In Colab\"/></a>"
      ]
    },
    {
      "cell_type": "code",
      "source": [
        "# prompt: code to empty '/content/drive/MyDrive/Doubled doubles files'\n",
        "\n",
        "import shutil\n",
        "import os\n",
        "\n",
        "folder_path = '/content/drive/MyDrive/Doubled doubles files'\n",
        "\n",
        "try:\n",
        "  for filename in os.listdir(folder_path):\n",
        "      file_path = os.path.join(folder_path, filename)\n",
        "      try:\n",
        "          if os.path.isfile(file_path) or os.path.islink(file_path):\n",
        "              os.unlink(file_path)\n",
        "          elif os.path.isdir(file_path):\n",
        "              shutil.rmtree(file_path)\n",
        "      except Exception as e:\n",
        "          print('Failed to delete %s. Reason: %s' % (file_path, e))\n",
        "  print(\"Folder emptied successfully.\")\n",
        "\n",
        "except FileNotFoundError:\n",
        "  print(\"Folder not found.\")\n",
        "except Exception as e:\n",
        "  print(f\"An error occurred: {e}\")\n"
      ],
      "metadata": {
        "colab": {
          "base_uri": "https://localhost:8080/"
        },
        "id": "4MOjhwFhGHIf",
        "outputId": "9c17c2ca-e3ed-44b9-ae26-5731bce9737f"
      },
      "execution_count": 4,
      "outputs": [
        {
          "output_type": "stream",
          "name": "stdout",
          "text": [
            "Folder emptied successfully.\n"
          ]
        }
      ]
    },
    {
      "cell_type": "code",
      "source": [
        "# prompt: code to empty /content/drive/MyDrive/Doubles files\n",
        "\n",
        "import shutil\n",
        "import os\n",
        "\n",
        "folder_path = '/content/drive/MyDrive/Doubles files'\n",
        "\n",
        "try:\n",
        "  for filename in os.listdir(folder_path):\n",
        "      file_path = os.path.join(folder_path, filename)\n",
        "      try:\n",
        "          if os.path.isfile(file_path) or os.path.islink(file_path):\n",
        "              os.unlink(file_path)\n",
        "          elif os.path.isdir(file_path):\n",
        "              shutil.rmtree(file_path)\n",
        "      except Exception as e:\n",
        "          print('Failed to delete %s. Reason: %s' % (file_path, e))\n",
        "  print(f\"Folder '{folder_path}' has been emptied.\")\n",
        "\n",
        "except FileNotFoundError:\n",
        "  print(f\"Folder '{folder_path}' not found.\")\n"
      ],
      "metadata": {
        "colab": {
          "base_uri": "https://localhost:8080/"
        },
        "id": "nXXQ5vRbHP5a",
        "outputId": "d933d080-9bde-44f0-9920-1304a21364d0"
      },
      "execution_count": 2,
      "outputs": [
        {
          "output_type": "stream",
          "name": "stdout",
          "text": [
            "Folder '/content/drive/MyDrive/Doubles files' has been emptied.\n"
          ]
        }
      ]
    },
    {
      "cell_type": "code",
      "source": [
        "# prompt: sort the files in '/content/drive/MyDrive/Doubles files' by size and the name them '001', '002', '003' etc in that order\n",
        "\n",
        "import os\n",
        "import shutil\n",
        "\n",
        "def sort_and_rename_files(directory):\n",
        "  \"\"\"Sorts files in a directory by size and renames them sequentially.\"\"\"\n",
        "\n",
        "  files = [f for f in os.listdir(directory) if os.path.isfile(os.path.join(directory, f))]\n",
        "\n",
        "  # Sort files by size (ascending)\n",
        "  files.sort(key=lambda x: os.path.getsize(os.path.join(directory, x)))\n",
        "\n",
        "  # Rename files sequentially\n",
        "  for i, filename in enumerate(files):\n",
        "    new_filename = f\"{i+1:03}.{filename.split('.')[-1]}\"  # Format as '001', '002', etc.\n",
        "    source_path = os.path.join(directory, filename)\n",
        "    destination_path = os.path.join(directory, new_filename)\n",
        "    shutil.move(source_path, destination_path)\n",
        "\n",
        "# Replace with your directory path\n",
        "directory_path = '/content/drive/MyDrive/Doubles files'\n",
        "\n",
        "sort_and_rename_files(directory_path)\n"
      ],
      "metadata": {
        "id": "iG6V_oZctJ_B"
      },
      "execution_count": 3,
      "outputs": []
    },
    {
      "cell_type": "markdown",
      "source": [
        "Duplicate files into a new folder"
      ],
      "metadata": {
        "id": "zZYNp73cOXj5"
      }
    },
    {
      "cell_type": "code",
      "source": [
        "import os\n",
        "import shutil\n",
        "\n",
        "# Define the source and destination directories\n",
        "source_dir = '/content/drive/MyDrive/Doubles files'\n",
        "destination_dir = '/content/drive/MyDrive/Doubled doubles files'\n",
        "\n",
        "# Create the destination directory if it does not exist\n",
        "if not os.path.exists(destination_dir):\n",
        "    os.makedirs(destination_dir)\n",
        "\n",
        "# List all files in the source directory\n",
        "files = os.listdir(source_dir)\n",
        "\n",
        "# Copy each file from the source directory to the destination directory\n",
        "for file in files:\n",
        "    # Define the full path to the source and destination files\n",
        "    src_file = os.path.join(source_dir, file)\n",
        "    dst_file = os.path.join(destination_dir, file)\n",
        "\n",
        "    # Copy the file\n",
        "    shutil.copy(src_file, dst_file)\n",
        "\n",
        "print(f'Copied {len(files)} files from {source_dir} to {destination_dir}')\n"
      ],
      "metadata": {
        "colab": {
          "base_uri": "https://localhost:8080/"
        },
        "id": "fG9qv4j2LnJC",
        "outputId": "ea3e69ab-64d8-4e18-bef4-aa3852bcef3c"
      },
      "execution_count": 5,
      "outputs": [
        {
          "output_type": "stream",
          "name": "stdout",
          "text": [
            "Copied 160 files from /content/drive/MyDrive/Doubles files to /content/drive/MyDrive/Doubled doubles files\n"
          ]
        }
      ]
    },
    {
      "cell_type": "markdown",
      "source": [
        "Duplicate the files"
      ],
      "metadata": {
        "id": "slkAa7UNRnrI"
      }
    },
    {
      "cell_type": "code",
      "source": [
        "import os\n",
        "import shutil\n",
        "\n",
        "# Define the directory where the files are stored\n",
        "directory = '/content/drive/MyDrive/Doubled doubles files'\n",
        "\n",
        "# List all files in the directory\n",
        "files = sorted(os.listdir(directory))\n",
        "\n",
        "# Calculate the start number for the duplicated files\n",
        "start_number = 161\n",
        "\n",
        "# Duplicate each file with a new number\n",
        "for file in files:\n",
        "    # Extract the file extension\n",
        "    extension = os.path.splitext(file)[1]\n",
        "\n",
        "    # Define the new file name based on the start number\n",
        "    new_file_name = f'{str(start_number).zfill(3)}{extension}'\n",
        "\n",
        "    # Define the full path to the original and new file\n",
        "    original_file_path = os.path.join(directory, file)\n",
        "    new_file_path = os.path.join(directory, new_file_name)\n",
        "\n",
        "    # Copy the original file to the new file\n",
        "    shutil.copy(original_file_path, new_file_path)\n",
        "\n",
        "    # Increment the start number for the next file\n",
        "    start_number += 1\n",
        "\n",
        "print(f'Duplicated {len(files)} files with new names starting from 161 to {start_number - 1}')\n"
      ],
      "metadata": {
        "id": "_DK0HfH1Ol_J",
        "colab": {
          "base_uri": "https://localhost:8080/"
        },
        "outputId": "712213b7-18af-40d5-c092-9a67fcc3aec2"
      },
      "execution_count": 6,
      "outputs": [
        {
          "output_type": "stream",
          "name": "stdout",
          "text": [
            "Duplicated 160 files with new names starting from 161 to 320\n"
          ]
        }
      ]
    },
    {
      "cell_type": "markdown",
      "source": [
        "Swap names of 161-320"
      ],
      "metadata": {
        "id": "r7iWTcxFRjM1"
      }
    },
    {
      "cell_type": "code",
      "source": [
        "import os\n",
        "import shutil\n",
        "\n",
        "# Define the directory where the files are stored\n",
        "directory = '/content/drive/MyDrive/Doubled doubles files'\n",
        "\n",
        "# Define the start and end of the range to swap\n",
        "start_range = 161\n",
        "end_range = 320\n",
        "\n",
        "# Iterate through the range in steps of 2 (161 with 162, 163 with 164, etc.)\n",
        "for i in range(start_range, end_range, 2):\n",
        "    file1 = f'{str(i).zfill(3)}.wav'   # Now using .wav as the file extension\n",
        "    file2 = f'{str(i+1).zfill(3)}.wav' # Now using .wav as the file extension\n",
        "\n",
        "    # Define the full path to file1 and file2\n",
        "    file1_path = os.path.join(directory, file1)\n",
        "    file2_path = os.path.join(directory, file2)\n",
        "\n",
        "    # Define temporary paths\n",
        "    temp_path1 = os.path.join(directory, f'temp_{i}.wav')   # Temporary path for file1\n",
        "    temp_path2 = os.path.join(directory, f'temp_{i+1}.wav') # Temporary path for file2\n",
        "\n",
        "    # Rename file1 to a temporary name\n",
        "    shutil.move(file1_path, temp_path1)\n",
        "    # Rename file2 to file1's original name\n",
        "    shutil.move(file2_path, file1_path)\n",
        "    # Rename the temporary file to file2's original name\n",
        "    shutil.move(temp_path1, file2_path)\n",
        "\n",
        "print('Files swapped successfully.')\n"
      ],
      "metadata": {
        "colab": {
          "base_uri": "https://localhost:8080/"
        },
        "id": "mPHlJ4_CRhl8",
        "outputId": "f5e30b4c-efd6-4bb7-aa81-25d751c602bd"
      },
      "execution_count": 7,
      "outputs": [
        {
          "output_type": "stream",
          "name": "stdout",
          "text": [
            "Files swapped successfully.\n"
          ]
        }
      ]
    },
    {
      "cell_type": "markdown",
      "source": [
        "Arranging in folders"
      ],
      "metadata": {
        "id": "Ls7FSfpLLNRi"
      }
    },
    {
      "cell_type": "code",
      "source": [
        "import os\n",
        "import shutil\n",
        "\n",
        "source_folder = '/content/drive/My Drive/Doubled doubles files'\n",
        "dest_folder = '/content/dataset'\n",
        "\n",
        "os.makedirs(dest_folder, exist_ok=True)\n",
        "\n",
        "for i in range(1, 320, 2):\n",
        "    pair_folder = os.path.join(dest_folder, f'pair_{str((i + 1)//2).zfill(3)}')\n",
        "    os.makedirs(pair_folder, exist_ok=True)\n",
        "\n",
        "    original_file = os.path.join(source_folder, f'{str(i).zfill(3)}.wav')\n",
        "    double_file = os.path.join(source_folder, f'{str(i+1).zfill(3)}.wav')\n",
        "\n",
        "    shutil.copy(original_file, os.path.join(pair_folder, 'original.wav'))\n",
        "    shutil.copy(double_file, os.path.join(pair_folder, 'double.wav'))\n"
      ],
      "metadata": {
        "id": "vHbrCnaWVtw3"
      },
      "execution_count": 2,
      "outputs": []
    },
    {
      "cell_type": "code",
      "source": [
        "import numpy as np\n",
        "import tensorflow as tf\n",
        "from tensorflow.keras import layers, models\n",
        "import librosa\n",
        "import librosa.display\n",
        "import os\n",
        "from tqdm import tqdm\n",
        "\n",
        "# Function to load and preprocess audio\n",
        "def load_and_preprocess_audio_pairs(dataset_path, n_mels=192, hop_length=256, sr=22050):\n",
        "    original_spectrograms = []\n",
        "    doubled_spectrograms = []\n",
        "\n",
        "    for i in tqdm(range(1, 161)):  # Assuming 160 folders named pair_001 to pair_160\n",
        "        folder_name = f\"pair_{i:03}\"\n",
        "        folder_path = os.path.join(dataset_path, folder_name)\n",
        "\n",
        "        original_file_path = os.path.join(folder_path, \"original.wav\")\n",
        "        doubled_file_path = os.path.join(folder_path, \"double.wav\")\n",
        "\n",
        "        if os.path.exists(original_file_path) and os.path.exists(doubled_file_path):\n",
        "            original_audio, _ = librosa.load(original_file_path, sr=sr)\n",
        "            doubled_audio, _ = librosa.load(doubled_file_path, sr=sr)\n",
        "\n",
        "            original_mel_spec = librosa.feature.melspectrogram(y=original_audio, sr=sr, n_mels=n_mels, hop_length=hop_length)\n",
        "            doubled_mel_spec = librosa.feature.melspectrogram(y=doubled_audio, sr=sr, n_mels=n_mels, hop_length=hop_length)\n",
        "\n",
        "            original_mel_spec_db = librosa.power_to_db(original_mel_spec, ref=np.max)\n",
        "            doubled_mel_spec_db = librosa.power_to_db(doubled_mel_spec, ref=np.max)\n",
        "\n",
        "            original_spectrograms.append(original_mel_spec_db)\n",
        "            doubled_spectrograms.append(doubled_mel_spec_db)\n",
        "\n",
        "    return original_spectrograms, doubled_spectrograms\n",
        "\n",
        "# Load and prepare the data\n",
        "dataset_path = \"/content/dataset\"\n",
        "original_specs, doubled_specs = load_and_preprocess_audio_pairs(dataset_path)\n",
        "\n",
        "# Function to pad spectrograms to the same length\n",
        "max_length = max(max(spec.shape[1] for spec in original_specs), max(spec.shape[1] for spec in doubled_specs))\n",
        "\n",
        "def pad_spectrograms(specs, max_length):\n",
        "    padded_specs = [np.pad(spec, ((0, 0), (0, max_length - spec.shape[1])), mode='constant') for spec in specs]\n",
        "    # Ensure even dimensions if necessary\n",
        "    padded_specs = [np.pad(spec, ((0, 0), (0, spec.shape[1] % 2)), mode='constant') if spec.shape[1] % 2 != 0 else spec for spec in padded_specs]\n",
        "    return np.array(padded_specs)[..., np.newaxis]\n",
        "\n",
        "\n",
        "# Pad original and doubled spectrograms\n",
        "original_specs_padded = pad_spectrograms(original_specs, max_length)\n",
        "doubled_specs_padded = pad_spectrograms(doubled_specs, max_length)\n",
        "\n",
        "# Define the autoencoder model\n",
        "def create_doubler_autoencoder(input_shape):\n",
        "    encoder_input = layers.Input(shape=input_shape)\n",
        "    x = layers.Conv2D(32, (3, 3), activation='relu', padding='same')(encoder_input)\n",
        "    x = layers.MaxPooling2D((2, 2), padding='same')(x)\n",
        "    x = layers.Conv2D(64, (3, 3), activation='relu', padding='same')(x)\n",
        "    encoded = layers.MaxPooling2D((2, 2), padding='same')(x)\n",
        "\n",
        "    x = layers.Conv2D(64, (3, 3), activation='relu', padding='same')(encoded)\n",
        "    x = layers.UpSampling2D((2, 2))(x)\n",
        "    x = layers.Conv2D(32, (3, 3), activation='relu', padding='same')(x)\n",
        "    x = layers.UpSampling2D((2, 2))(x)\n",
        "    decoded = layers.Conv2D(1, (3, 3), activation='linear', padding='same')(x)\n",
        "\n",
        "    autoencoder = models.Model(encoder_input, decoded)\n",
        "    autoencoder.compile(optimizer='adam', loss='mse')\n",
        "\n",
        "    return autoencoder\n",
        "\n",
        "# Create and train the model\n",
        "input_shape = original_specs_padded.shape[1:]\n",
        "autoencoder = create_doubler_autoencoder(input_shape)\n",
        "autoencoder.summary()\n",
        "\n",
        "# Train the autoencoder\n",
        "history = autoencoder.fit(\n",
        "    original_specs_padded,\n",
        "    doubled_specs_padded,\n",
        "    epochs=50,\n",
        "    batch_size=16,\n",
        "    validation_split=0.1\n",
        ")\n",
        "\n",
        "# Save the trained model\n",
        "autoencoder.save('/content/drive/MyDrive/MyModel.keras')\n"
      ],
      "metadata": {
        "colab": {
          "base_uri": "https://localhost:8080/",
          "height": 1000
        },
        "id": "fAtpUQJq4bqv",
        "outputId": "ed41575d-58f8-4016-cbfc-d90c5c711e20"
      },
      "execution_count": 25,
      "outputs": [
        {
          "output_type": "stream",
          "name": "stderr",
          "text": [
            "100%|██████████| 160/160 [00:34<00:00,  4.60it/s]\n"
          ]
        },
        {
          "output_type": "display_data",
          "data": {
            "text/plain": [
              "\u001b[1mModel: \"functional_7\"\u001b[0m\n"
            ],
            "text/html": [
              "<pre style=\"white-space:pre;overflow-x:auto;line-height:normal;font-family:Menlo,'DejaVu Sans Mono',consolas,'Courier New',monospace\"><span style=\"font-weight: bold\">Model: \"functional_7\"</span>\n",
              "</pre>\n"
            ]
          },
          "metadata": {}
        },
        {
          "output_type": "display_data",
          "data": {
            "text/plain": [
              "┏━━━━━━━━━━━━━━━━━━━━━━━━━━━━━━━━━━━━━━┳━━━━━━━━━━━━━━━━━━━━━━━━━━━━━┳━━━━━━━━━━━━━━━━━┓\n",
              "┃\u001b[1m \u001b[0m\u001b[1mLayer (type)                        \u001b[0m\u001b[1m \u001b[0m┃\u001b[1m \u001b[0m\u001b[1mOutput Shape               \u001b[0m\u001b[1m \u001b[0m┃\u001b[1m \u001b[0m\u001b[1m        Param #\u001b[0m\u001b[1m \u001b[0m┃\n",
              "┡━━━━━━━━━━━━━━━━━━━━━━━━━━━━━━━━━━━━━━╇━━━━━━━━━━━━━━━━━━━━━━━━━━━━━╇━━━━━━━━━━━━━━━━━┩\n",
              "│ input_layer_7 (\u001b[38;5;33mInputLayer\u001b[0m)           │ (\u001b[38;5;45mNone\u001b[0m, \u001b[38;5;34m192\u001b[0m, \u001b[38;5;34m9344\u001b[0m, \u001b[38;5;34m1\u001b[0m)        │               \u001b[38;5;34m0\u001b[0m │\n",
              "├──────────────────────────────────────┼─────────────────────────────┼─────────────────┤\n",
              "│ conv2d_35 (\u001b[38;5;33mConv2D\u001b[0m)                   │ (\u001b[38;5;45mNone\u001b[0m, \u001b[38;5;34m192\u001b[0m, \u001b[38;5;34m9344\u001b[0m, \u001b[38;5;34m32\u001b[0m)       │             \u001b[38;5;34m320\u001b[0m │\n",
              "├──────────────────────────────────────┼─────────────────────────────┼─────────────────┤\n",
              "│ max_pooling2d_14 (\u001b[38;5;33mMaxPooling2D\u001b[0m)      │ (\u001b[38;5;45mNone\u001b[0m, \u001b[38;5;34m96\u001b[0m, \u001b[38;5;34m4672\u001b[0m, \u001b[38;5;34m32\u001b[0m)        │               \u001b[38;5;34m0\u001b[0m │\n",
              "├──────────────────────────────────────┼─────────────────────────────┼─────────────────┤\n",
              "│ conv2d_36 (\u001b[38;5;33mConv2D\u001b[0m)                   │ (\u001b[38;5;45mNone\u001b[0m, \u001b[38;5;34m96\u001b[0m, \u001b[38;5;34m4672\u001b[0m, \u001b[38;5;34m64\u001b[0m)        │          \u001b[38;5;34m18,496\u001b[0m │\n",
              "├──────────────────────────────────────┼─────────────────────────────┼─────────────────┤\n",
              "│ max_pooling2d_15 (\u001b[38;5;33mMaxPooling2D\u001b[0m)      │ (\u001b[38;5;45mNone\u001b[0m, \u001b[38;5;34m48\u001b[0m, \u001b[38;5;34m2336\u001b[0m, \u001b[38;5;34m64\u001b[0m)        │               \u001b[38;5;34m0\u001b[0m │\n",
              "├──────────────────────────────────────┼─────────────────────────────┼─────────────────┤\n",
              "│ conv2d_37 (\u001b[38;5;33mConv2D\u001b[0m)                   │ (\u001b[38;5;45mNone\u001b[0m, \u001b[38;5;34m48\u001b[0m, \u001b[38;5;34m2336\u001b[0m, \u001b[38;5;34m64\u001b[0m)        │          \u001b[38;5;34m36,928\u001b[0m │\n",
              "├──────────────────────────────────────┼─────────────────────────────┼─────────────────┤\n",
              "│ up_sampling2d_14 (\u001b[38;5;33mUpSampling2D\u001b[0m)      │ (\u001b[38;5;45mNone\u001b[0m, \u001b[38;5;34m96\u001b[0m, \u001b[38;5;34m4672\u001b[0m, \u001b[38;5;34m64\u001b[0m)        │               \u001b[38;5;34m0\u001b[0m │\n",
              "├──────────────────────────────────────┼─────────────────────────────┼─────────────────┤\n",
              "│ conv2d_38 (\u001b[38;5;33mConv2D\u001b[0m)                   │ (\u001b[38;5;45mNone\u001b[0m, \u001b[38;5;34m96\u001b[0m, \u001b[38;5;34m4672\u001b[0m, \u001b[38;5;34m32\u001b[0m)        │          \u001b[38;5;34m18,464\u001b[0m │\n",
              "├──────────────────────────────────────┼─────────────────────────────┼─────────────────┤\n",
              "│ up_sampling2d_15 (\u001b[38;5;33mUpSampling2D\u001b[0m)      │ (\u001b[38;5;45mNone\u001b[0m, \u001b[38;5;34m192\u001b[0m, \u001b[38;5;34m9344\u001b[0m, \u001b[38;5;34m32\u001b[0m)       │               \u001b[38;5;34m0\u001b[0m │\n",
              "├──────────────────────────────────────┼─────────────────────────────┼─────────────────┤\n",
              "│ conv2d_39 (\u001b[38;5;33mConv2D\u001b[0m)                   │ (\u001b[38;5;45mNone\u001b[0m, \u001b[38;5;34m192\u001b[0m, \u001b[38;5;34m9344\u001b[0m, \u001b[38;5;34m1\u001b[0m)        │             \u001b[38;5;34m289\u001b[0m │\n",
              "└──────────────────────────────────────┴─────────────────────────────┴─────────────────┘\n"
            ],
            "text/html": [
              "<pre style=\"white-space:pre;overflow-x:auto;line-height:normal;font-family:Menlo,'DejaVu Sans Mono',consolas,'Courier New',monospace\">┏━━━━━━━━━━━━━━━━━━━━━━━━━━━━━━━━━━━━━━┳━━━━━━━━━━━━━━━━━━━━━━━━━━━━━┳━━━━━━━━━━━━━━━━━┓\n",
              "┃<span style=\"font-weight: bold\"> Layer (type)                         </span>┃<span style=\"font-weight: bold\"> Output Shape                </span>┃<span style=\"font-weight: bold\">         Param # </span>┃\n",
              "┡━━━━━━━━━━━━━━━━━━━━━━━━━━━━━━━━━━━━━━╇━━━━━━━━━━━━━━━━━━━━━━━━━━━━━╇━━━━━━━━━━━━━━━━━┩\n",
              "│ input_layer_7 (<span style=\"color: #0087ff; text-decoration-color: #0087ff\">InputLayer</span>)           │ (<span style=\"color: #00d7ff; text-decoration-color: #00d7ff\">None</span>, <span style=\"color: #00af00; text-decoration-color: #00af00\">192</span>, <span style=\"color: #00af00; text-decoration-color: #00af00\">9344</span>, <span style=\"color: #00af00; text-decoration-color: #00af00\">1</span>)        │               <span style=\"color: #00af00; text-decoration-color: #00af00\">0</span> │\n",
              "├──────────────────────────────────────┼─────────────────────────────┼─────────────────┤\n",
              "│ conv2d_35 (<span style=\"color: #0087ff; text-decoration-color: #0087ff\">Conv2D</span>)                   │ (<span style=\"color: #00d7ff; text-decoration-color: #00d7ff\">None</span>, <span style=\"color: #00af00; text-decoration-color: #00af00\">192</span>, <span style=\"color: #00af00; text-decoration-color: #00af00\">9344</span>, <span style=\"color: #00af00; text-decoration-color: #00af00\">32</span>)       │             <span style=\"color: #00af00; text-decoration-color: #00af00\">320</span> │\n",
              "├──────────────────────────────────────┼─────────────────────────────┼─────────────────┤\n",
              "│ max_pooling2d_14 (<span style=\"color: #0087ff; text-decoration-color: #0087ff\">MaxPooling2D</span>)      │ (<span style=\"color: #00d7ff; text-decoration-color: #00d7ff\">None</span>, <span style=\"color: #00af00; text-decoration-color: #00af00\">96</span>, <span style=\"color: #00af00; text-decoration-color: #00af00\">4672</span>, <span style=\"color: #00af00; text-decoration-color: #00af00\">32</span>)        │               <span style=\"color: #00af00; text-decoration-color: #00af00\">0</span> │\n",
              "├──────────────────────────────────────┼─────────────────────────────┼─────────────────┤\n",
              "│ conv2d_36 (<span style=\"color: #0087ff; text-decoration-color: #0087ff\">Conv2D</span>)                   │ (<span style=\"color: #00d7ff; text-decoration-color: #00d7ff\">None</span>, <span style=\"color: #00af00; text-decoration-color: #00af00\">96</span>, <span style=\"color: #00af00; text-decoration-color: #00af00\">4672</span>, <span style=\"color: #00af00; text-decoration-color: #00af00\">64</span>)        │          <span style=\"color: #00af00; text-decoration-color: #00af00\">18,496</span> │\n",
              "├──────────────────────────────────────┼─────────────────────────────┼─────────────────┤\n",
              "│ max_pooling2d_15 (<span style=\"color: #0087ff; text-decoration-color: #0087ff\">MaxPooling2D</span>)      │ (<span style=\"color: #00d7ff; text-decoration-color: #00d7ff\">None</span>, <span style=\"color: #00af00; text-decoration-color: #00af00\">48</span>, <span style=\"color: #00af00; text-decoration-color: #00af00\">2336</span>, <span style=\"color: #00af00; text-decoration-color: #00af00\">64</span>)        │               <span style=\"color: #00af00; text-decoration-color: #00af00\">0</span> │\n",
              "├──────────────────────────────────────┼─────────────────────────────┼─────────────────┤\n",
              "│ conv2d_37 (<span style=\"color: #0087ff; text-decoration-color: #0087ff\">Conv2D</span>)                   │ (<span style=\"color: #00d7ff; text-decoration-color: #00d7ff\">None</span>, <span style=\"color: #00af00; text-decoration-color: #00af00\">48</span>, <span style=\"color: #00af00; text-decoration-color: #00af00\">2336</span>, <span style=\"color: #00af00; text-decoration-color: #00af00\">64</span>)        │          <span style=\"color: #00af00; text-decoration-color: #00af00\">36,928</span> │\n",
              "├──────────────────────────────────────┼─────────────────────────────┼─────────────────┤\n",
              "│ up_sampling2d_14 (<span style=\"color: #0087ff; text-decoration-color: #0087ff\">UpSampling2D</span>)      │ (<span style=\"color: #00d7ff; text-decoration-color: #00d7ff\">None</span>, <span style=\"color: #00af00; text-decoration-color: #00af00\">96</span>, <span style=\"color: #00af00; text-decoration-color: #00af00\">4672</span>, <span style=\"color: #00af00; text-decoration-color: #00af00\">64</span>)        │               <span style=\"color: #00af00; text-decoration-color: #00af00\">0</span> │\n",
              "├──────────────────────────────────────┼─────────────────────────────┼─────────────────┤\n",
              "│ conv2d_38 (<span style=\"color: #0087ff; text-decoration-color: #0087ff\">Conv2D</span>)                   │ (<span style=\"color: #00d7ff; text-decoration-color: #00d7ff\">None</span>, <span style=\"color: #00af00; text-decoration-color: #00af00\">96</span>, <span style=\"color: #00af00; text-decoration-color: #00af00\">4672</span>, <span style=\"color: #00af00; text-decoration-color: #00af00\">32</span>)        │          <span style=\"color: #00af00; text-decoration-color: #00af00\">18,464</span> │\n",
              "├──────────────────────────────────────┼─────────────────────────────┼─────────────────┤\n",
              "│ up_sampling2d_15 (<span style=\"color: #0087ff; text-decoration-color: #0087ff\">UpSampling2D</span>)      │ (<span style=\"color: #00d7ff; text-decoration-color: #00d7ff\">None</span>, <span style=\"color: #00af00; text-decoration-color: #00af00\">192</span>, <span style=\"color: #00af00; text-decoration-color: #00af00\">9344</span>, <span style=\"color: #00af00; text-decoration-color: #00af00\">32</span>)       │               <span style=\"color: #00af00; text-decoration-color: #00af00\">0</span> │\n",
              "├──────────────────────────────────────┼─────────────────────────────┼─────────────────┤\n",
              "│ conv2d_39 (<span style=\"color: #0087ff; text-decoration-color: #0087ff\">Conv2D</span>)                   │ (<span style=\"color: #00d7ff; text-decoration-color: #00d7ff\">None</span>, <span style=\"color: #00af00; text-decoration-color: #00af00\">192</span>, <span style=\"color: #00af00; text-decoration-color: #00af00\">9344</span>, <span style=\"color: #00af00; text-decoration-color: #00af00\">1</span>)        │             <span style=\"color: #00af00; text-decoration-color: #00af00\">289</span> │\n",
              "└──────────────────────────────────────┴─────────────────────────────┴─────────────────┘\n",
              "</pre>\n"
            ]
          },
          "metadata": {}
        },
        {
          "output_type": "display_data",
          "data": {
            "text/plain": [
              "\u001b[1m Total params: \u001b[0m\u001b[38;5;34m74,497\u001b[0m (291.00 KB)\n"
            ],
            "text/html": [
              "<pre style=\"white-space:pre;overflow-x:auto;line-height:normal;font-family:Menlo,'DejaVu Sans Mono',consolas,'Courier New',monospace\"><span style=\"font-weight: bold\"> Total params: </span><span style=\"color: #00af00; text-decoration-color: #00af00\">74,497</span> (291.00 KB)\n",
              "</pre>\n"
            ]
          },
          "metadata": {}
        },
        {
          "output_type": "display_data",
          "data": {
            "text/plain": [
              "\u001b[1m Trainable params: \u001b[0m\u001b[38;5;34m74,497\u001b[0m (291.00 KB)\n"
            ],
            "text/html": [
              "<pre style=\"white-space:pre;overflow-x:auto;line-height:normal;font-family:Menlo,'DejaVu Sans Mono',consolas,'Courier New',monospace\"><span style=\"font-weight: bold\"> Trainable params: </span><span style=\"color: #00af00; text-decoration-color: #00af00\">74,497</span> (291.00 KB)\n",
              "</pre>\n"
            ]
          },
          "metadata": {}
        },
        {
          "output_type": "display_data",
          "data": {
            "text/plain": [
              "\u001b[1m Non-trainable params: \u001b[0m\u001b[38;5;34m0\u001b[0m (0.00 B)\n"
            ],
            "text/html": [
              "<pre style=\"white-space:pre;overflow-x:auto;line-height:normal;font-family:Menlo,'DejaVu Sans Mono',consolas,'Courier New',monospace\"><span style=\"font-weight: bold\"> Non-trainable params: </span><span style=\"color: #00af00; text-decoration-color: #00af00\">0</span> (0.00 B)\n",
              "</pre>\n"
            ]
          },
          "metadata": {}
        },
        {
          "output_type": "stream",
          "name": "stdout",
          "text": [
            "Epoch 1/50\n",
            "\u001b[1m9/9\u001b[0m \u001b[32m━━━━━━━━━━━━━━━━━━━━\u001b[0m\u001b[37m\u001b[0m \u001b[1m6s\u001b[0m 333ms/step - loss: 566.1653 - val_loss: 102.7812\n",
            "Epoch 2/50\n",
            "\u001b[1m9/9\u001b[0m \u001b[32m━━━━━━━━━━━━━━━━━━━━\u001b[0m\u001b[37m\u001b[0m \u001b[1m2s\u001b[0m 249ms/step - loss: 68.2249 - val_loss: 151.6653\n",
            "Epoch 3/50\n",
            "\u001b[1m9/9\u001b[0m \u001b[32m━━━━━━━━━━━━━━━━━━━━\u001b[0m\u001b[37m\u001b[0m \u001b[1m2s\u001b[0m 248ms/step - loss: 50.5377 - val_loss: 89.3127\n",
            "Epoch 4/50\n",
            "\u001b[1m9/9\u001b[0m \u001b[32m━━━━━━━━━━━━━━━━━━━━\u001b[0m\u001b[37m\u001b[0m \u001b[1m2s\u001b[0m 249ms/step - loss: 35.0261 - val_loss: 74.0168\n",
            "Epoch 5/50\n",
            "\u001b[1m9/9\u001b[0m \u001b[32m━━━━━━━━━━━━━━━━━━━━\u001b[0m\u001b[37m\u001b[0m \u001b[1m2s\u001b[0m 249ms/step - loss: 30.0651 - val_loss: 57.1481\n",
            "Epoch 6/50\n",
            "\u001b[1m9/9\u001b[0m \u001b[32m━━━━━━━━━━━━━━━━━━━━\u001b[0m\u001b[37m\u001b[0m \u001b[1m2s\u001b[0m 249ms/step - loss: 26.4352 - val_loss: 51.3534\n",
            "Epoch 7/50\n",
            "\u001b[1m9/9\u001b[0m \u001b[32m━━━━━━━━━━━━━━━━━━━━\u001b[0m\u001b[37m\u001b[0m \u001b[1m2s\u001b[0m 250ms/step - loss: 23.5816 - val_loss: 47.9409\n",
            "Epoch 8/50\n",
            "\u001b[1m9/9\u001b[0m \u001b[32m━━━━━━━━━━━━━━━━━━━━\u001b[0m\u001b[37m\u001b[0m \u001b[1m2s\u001b[0m 248ms/step - loss: 19.6512 - val_loss: 40.6984\n",
            "Epoch 9/50\n",
            "\u001b[1m9/9\u001b[0m \u001b[32m━━━━━━━━━━━━━━━━━━━━\u001b[0m\u001b[37m\u001b[0m \u001b[1m2s\u001b[0m 248ms/step - loss: 17.5484 - val_loss: 38.1477\n",
            "Epoch 10/50\n",
            "\u001b[1m9/9\u001b[0m \u001b[32m━━━━━━━━━━━━━━━━━━━━\u001b[0m\u001b[37m\u001b[0m \u001b[1m2s\u001b[0m 249ms/step - loss: 19.4765 - val_loss: 34.5129\n",
            "Epoch 11/50\n",
            "\u001b[1m9/9\u001b[0m \u001b[32m━━━━━━━━━━━━━━━━━━━━\u001b[0m\u001b[37m\u001b[0m \u001b[1m2s\u001b[0m 248ms/step - loss: 17.2492 - val_loss: 33.4314\n",
            "Epoch 12/50\n",
            "\u001b[1m9/9\u001b[0m \u001b[32m━━━━━━━━━━━━━━━━━━━━\u001b[0m\u001b[37m\u001b[0m \u001b[1m2s\u001b[0m 249ms/step - loss: 17.5426 - val_loss: 32.6280\n",
            "Epoch 13/50\n",
            "\u001b[1m9/9\u001b[0m \u001b[32m━━━━━━━━━━━━━━━━━━━━\u001b[0m\u001b[37m\u001b[0m \u001b[1m2s\u001b[0m 248ms/step - loss: 16.1179 - val_loss: 33.2432\n",
            "Epoch 14/50\n",
            "\u001b[1m9/9\u001b[0m \u001b[32m━━━━━━━━━━━━━━━━━━━━\u001b[0m\u001b[37m\u001b[0m \u001b[1m2s\u001b[0m 248ms/step - loss: 14.5120 - val_loss: 32.1920\n",
            "Epoch 15/50\n",
            "\u001b[1m9/9\u001b[0m \u001b[32m━━━━━━━━━━━━━━━━━━━━\u001b[0m\u001b[37m\u001b[0m \u001b[1m2s\u001b[0m 248ms/step - loss: 16.5010 - val_loss: 32.4244\n",
            "Epoch 16/50\n",
            "\u001b[1m9/9\u001b[0m \u001b[32m━━━━━━━━━━━━━━━━━━━━\u001b[0m\u001b[37m\u001b[0m \u001b[1m2s\u001b[0m 249ms/step - loss: 14.8404 - val_loss: 30.8128\n",
            "Epoch 17/50\n",
            "\u001b[1m9/9\u001b[0m \u001b[32m━━━━━━━━━━━━━━━━━━━━\u001b[0m\u001b[37m\u001b[0m \u001b[1m2s\u001b[0m 248ms/step - loss: 13.2587 - val_loss: 30.6601\n",
            "Epoch 18/50\n",
            "\u001b[1m9/9\u001b[0m \u001b[32m━━━━━━━━━━━━━━━━━━━━\u001b[0m\u001b[37m\u001b[0m \u001b[1m2s\u001b[0m 249ms/step - loss: 14.3633 - val_loss: 31.1250\n",
            "Epoch 19/50\n",
            "\u001b[1m9/9\u001b[0m \u001b[32m━━━━━━━━━━━━━━━━━━━━\u001b[0m\u001b[37m\u001b[0m \u001b[1m2s\u001b[0m 248ms/step - loss: 13.9355 - val_loss: 30.1894\n",
            "Epoch 20/50\n",
            "\u001b[1m9/9\u001b[0m \u001b[32m━━━━━━━━━━━━━━━━━━━━\u001b[0m\u001b[37m\u001b[0m \u001b[1m2s\u001b[0m 248ms/step - loss: 14.4811 - val_loss: 30.6730\n",
            "Epoch 21/50\n",
            "\u001b[1m9/9\u001b[0m \u001b[32m━━━━━━━━━━━━━━━━━━━━\u001b[0m\u001b[37m\u001b[0m \u001b[1m2s\u001b[0m 249ms/step - loss: 15.1107 - val_loss: 30.8168\n",
            "Epoch 22/50\n",
            "\u001b[1m9/9\u001b[0m \u001b[32m━━━━━━━━━━━━━━━━━━━━\u001b[0m\u001b[37m\u001b[0m \u001b[1m2s\u001b[0m 249ms/step - loss: 14.4584 - val_loss: 32.2646\n",
            "Epoch 23/50\n",
            "\u001b[1m9/9\u001b[0m \u001b[32m━━━━━━━━━━━━━━━━━━━━\u001b[0m\u001b[37m\u001b[0m \u001b[1m2s\u001b[0m 249ms/step - loss: 16.1695 - val_loss: 37.9151\n",
            "Epoch 24/50\n",
            "\u001b[1m9/9\u001b[0m \u001b[32m━━━━━━━━━━━━━━━━━━━━\u001b[0m\u001b[37m\u001b[0m \u001b[1m2s\u001b[0m 248ms/step - loss: 16.2393 - val_loss: 39.4855\n",
            "Epoch 25/50\n",
            "\u001b[1m9/9\u001b[0m \u001b[32m━━━━━━━━━━━━━━━━━━━━\u001b[0m\u001b[37m\u001b[0m \u001b[1m2s\u001b[0m 248ms/step - loss: 16.4302 - val_loss: 30.7230\n",
            "Epoch 26/50\n",
            "\u001b[1m9/9\u001b[0m \u001b[32m━━━━━━━━━━━━━━━━━━━━\u001b[0m\u001b[37m\u001b[0m \u001b[1m2s\u001b[0m 249ms/step - loss: 14.9766 - val_loss: 31.3254\n",
            "Epoch 27/50\n",
            "\u001b[1m9/9\u001b[0m \u001b[32m━━━━━━━━━━━━━━━━━━━━\u001b[0m\u001b[37m\u001b[0m \u001b[1m2s\u001b[0m 249ms/step - loss: 17.2450 - val_loss: 29.5447\n",
            "Epoch 28/50\n",
            "\u001b[1m9/9\u001b[0m \u001b[32m━━━━━━━━━━━━━━━━━━━━\u001b[0m\u001b[37m\u001b[0m \u001b[1m2s\u001b[0m 249ms/step - loss: 13.1768 - val_loss: 28.9871\n",
            "Epoch 29/50\n",
            "\u001b[1m9/9\u001b[0m \u001b[32m━━━━━━━━━━━━━━━━━━━━\u001b[0m\u001b[37m\u001b[0m \u001b[1m2s\u001b[0m 248ms/step - loss: 13.9657 - val_loss: 30.6374\n",
            "Epoch 30/50\n",
            "\u001b[1m9/9\u001b[0m \u001b[32m━━━━━━━━━━━━━━━━━━━━\u001b[0m\u001b[37m\u001b[0m \u001b[1m2s\u001b[0m 249ms/step - loss: 14.8431 - val_loss: 29.6656\n",
            "Epoch 31/50\n",
            "\u001b[1m9/9\u001b[0m \u001b[32m━━━━━━━━━━━━━━━━━━━━\u001b[0m\u001b[37m\u001b[0m \u001b[1m2s\u001b[0m 249ms/step - loss: 13.2015 - val_loss: 29.1368\n",
            "Epoch 32/50\n",
            "\u001b[1m9/9\u001b[0m \u001b[32m━━━━━━━━━━━━━━━━━━━━\u001b[0m\u001b[37m\u001b[0m \u001b[1m2s\u001b[0m 248ms/step - loss: 14.2279 - val_loss: 29.7148\n",
            "Epoch 33/50\n",
            "\u001b[1m9/9\u001b[0m \u001b[32m━━━━━━━━━━━━━━━━━━━━\u001b[0m\u001b[37m\u001b[0m \u001b[1m2s\u001b[0m 249ms/step - loss: 13.2936 - val_loss: 28.6879\n",
            "Epoch 34/50\n",
            "\u001b[1m9/9\u001b[0m \u001b[32m━━━━━━━━━━━━━━━━━━━━\u001b[0m\u001b[37m\u001b[0m \u001b[1m2s\u001b[0m 250ms/step - loss: 15.5627 - val_loss: 28.4891\n",
            "Epoch 35/50\n",
            "\u001b[1m9/9\u001b[0m \u001b[32m━━━━━━━━━━━━━━━━━━━━\u001b[0m\u001b[37m\u001b[0m \u001b[1m2s\u001b[0m 248ms/step - loss: 14.4325 - val_loss: 28.4009\n",
            "Epoch 36/50\n",
            "\u001b[1m9/9\u001b[0m \u001b[32m━━━━━━━━━━━━━━━━━━━━\u001b[0m\u001b[37m\u001b[0m \u001b[1m2s\u001b[0m 248ms/step - loss: 15.3939 - val_loss: 31.6836\n",
            "Epoch 37/50\n",
            "\u001b[1m9/9\u001b[0m \u001b[32m━━━━━━━━━━━━━━━━━━━━\u001b[0m\u001b[37m\u001b[0m \u001b[1m2s\u001b[0m 248ms/step - loss: 15.2093 - val_loss: 34.5679\n",
            "Epoch 38/50\n",
            "\u001b[1m9/9\u001b[0m \u001b[32m━━━━━━━━━━━━━━━━━━━━\u001b[0m\u001b[37m\u001b[0m \u001b[1m2s\u001b[0m 249ms/step - loss: 16.3377 - val_loss: 30.5680\n",
            "Epoch 39/50\n",
            "\u001b[1m9/9\u001b[0m \u001b[32m━━━━━━━━━━━━━━━━━━━━\u001b[0m\u001b[37m\u001b[0m \u001b[1m2s\u001b[0m 249ms/step - loss: 14.2776 - val_loss: 28.3639\n",
            "Epoch 40/50\n",
            "\u001b[1m9/9\u001b[0m \u001b[32m━━━━━━━━━━━━━━━━━━━━\u001b[0m\u001b[37m\u001b[0m \u001b[1m2s\u001b[0m 248ms/step - loss: 16.2973 - val_loss: 28.7044\n",
            "Epoch 41/50\n",
            "\u001b[1m9/9\u001b[0m \u001b[32m━━━━━━━━━━━━━━━━━━━━\u001b[0m\u001b[37m\u001b[0m \u001b[1m2s\u001b[0m 248ms/step - loss: 16.1511 - val_loss: 27.9272\n",
            "Epoch 42/50\n",
            "\u001b[1m9/9\u001b[0m \u001b[32m━━━━━━━━━━━━━━━━━━━━\u001b[0m\u001b[37m\u001b[0m \u001b[1m2s\u001b[0m 248ms/step - loss: 14.9824 - val_loss: 27.9403\n",
            "Epoch 43/50\n",
            "\u001b[1m9/9\u001b[0m \u001b[32m━━━━━━━━━━━━━━━━━━━━\u001b[0m\u001b[37m\u001b[0m \u001b[1m2s\u001b[0m 249ms/step - loss: 14.4166 - val_loss: 28.2133\n",
            "Epoch 44/50\n",
            "\u001b[1m9/9\u001b[0m \u001b[32m━━━━━━━━━━━━━━━━━━━━\u001b[0m\u001b[37m\u001b[0m \u001b[1m2s\u001b[0m 250ms/step - loss: 13.2000 - val_loss: 28.8343\n",
            "Epoch 45/50\n",
            "\u001b[1m9/9\u001b[0m \u001b[32m━━━━━━━━━━━━━━━━━━━━\u001b[0m\u001b[37m\u001b[0m \u001b[1m2s\u001b[0m 248ms/step - loss: 16.0258 - val_loss: 28.6086\n",
            "Epoch 46/50\n",
            "\u001b[1m9/9\u001b[0m \u001b[32m━━━━━━━━━━━━━━━━━━━━\u001b[0m\u001b[37m\u001b[0m \u001b[1m2s\u001b[0m 249ms/step - loss: 16.1931 - val_loss: 27.9621\n",
            "Epoch 47/50\n",
            "\u001b[1m9/9\u001b[0m \u001b[32m━━━━━━━━━━━━━━━━━━━━\u001b[0m\u001b[37m\u001b[0m \u001b[1m2s\u001b[0m 248ms/step - loss: 14.6106 - val_loss: 28.5136\n",
            "Epoch 48/50\n",
            "\u001b[1m9/9\u001b[0m \u001b[32m━━━━━━━━━━━━━━━━━━━━\u001b[0m\u001b[37m\u001b[0m \u001b[1m2s\u001b[0m 249ms/step - loss: 14.8153 - val_loss: 28.7794\n",
            "Epoch 49/50\n",
            "\u001b[1m9/9\u001b[0m \u001b[32m━━━━━━━━━━━━━━━━━━━━\u001b[0m\u001b[37m\u001b[0m \u001b[1m2s\u001b[0m 249ms/step - loss: 15.4611 - val_loss: 27.6246\n",
            "Epoch 50/50\n",
            "\u001b[1m9/9\u001b[0m \u001b[32m━━━━━━━━━━━━━━━━━━━━\u001b[0m\u001b[37m\u001b[0m \u001b[1m2s\u001b[0m 249ms/step - loss: 12.6809 - val_loss: 27.9998\n"
          ]
        }
      ]
    },
    {
      "cell_type": "code",
      "source": [
        "import numpy as np\n",
        "import librosa\n",
        "import soundfile as sf\n",
        "import tensorflow as tf\n",
        "from google.colab import drive\n",
        "import os\n",
        "\n",
        "# Define paths\n",
        "input_path = '/content/drive/MyDrive/New Test.wav'\n",
        "output_path = '/content/drive/MyDrive/Fake_Double.wav'\n",
        "\n",
        "# Load your trained autoencoder\n",
        "autoencoder = tf.keras.models.load_model('/content/drive/MyDrive/MyModel.keras') # Adjust the path as necessary\n",
        "\n",
        "# Load audio file\n",
        "y, sr = librosa.load(input_path, sr=None)\n",
        "\n",
        "# Convert audio to spectrogram\n",
        "original_spec = librosa.stft(y)\n",
        "original_mag, original_phase = np.abs(original_spec), np.angle(original_spec)\n",
        "\n",
        "# Normalize and reshape for the model\n",
        "input_spec = original_mag[np.newaxis, ..., np.newaxis]\n",
        "input_spec_resized = tf.image.resize(input_spec, [autoencoder.input.shape[1], autoencoder.input.shape[2]], method=tf.image.ResizeMethod.BILINEAR)\n",
        "\n",
        "# Generate fake doubled spectrogram\n",
        "predicted_spec = autoencoder.predict(input_spec_resized)[0, ..., 0]\n",
        "\n",
        "# Resize back to original spectrogram shape\n",
        "predicted_spec_original_size = tf.image.resize(predicted_spec[..., np.newaxis], [original_mag.shape[0], original_mag.shape[1]], method=tf.image.ResizeMethod.BILINEAR).numpy()[..., 0]\n",
        "\n",
        "# Reconstruct complex spectrogram with original phase\n",
        "predicted_complex_spec = predicted_spec_original_size * np.exp(1j * original_phase)\n",
        "\n",
        "# Convert back to waveform\n",
        "fake_double_audio = librosa.istft(predicted_complex_spec)\n",
        "\n",
        "# Save the output audio\n",
        "sf.write(output_path, fake_double_audio, sr)\n",
        "\n",
        "print(f'Fake double track saved at: {output_path}')\n"
      ],
      "metadata": {
        "colab": {
          "base_uri": "https://localhost:8080/"
        },
        "id": "-ZEJAHZqg15j",
        "outputId": "77eb20e9-535f-4e03-ae78-2260e718eca6"
      },
      "execution_count": 26,
      "outputs": [
        {
          "output_type": "stream",
          "name": "stderr",
          "text": [
            "WARNING:tensorflow:5 out of the last 5 calls to <function TensorFlowTrainer.make_predict_function.<locals>.one_step_on_data_distributed at 0x7966f059bce0> triggered tf.function retracing. Tracing is expensive and the excessive number of tracings could be due to (1) creating @tf.function repeatedly in a loop, (2) passing tensors with different shapes, (3) passing Python objects instead of tensors. For (1), please define your @tf.function outside of the loop. For (2), @tf.function has reduce_retracing=True option that can avoid unnecessary retracing. For (3), please refer to https://www.tensorflow.org/guide/function#controlling_retracing and https://www.tensorflow.org/api_docs/python/tf/function for  more details.\n"
          ]
        },
        {
          "output_type": "stream",
          "name": "stdout",
          "text": [
            "\u001b[1m1/1\u001b[0m \u001b[32m━━━━━━━━━━━━━━━━━━━━\u001b[0m\u001b[37m\u001b[0m \u001b[1m0s\u001b[0m 357ms/step\n",
            "Fake double track saved at: /content/drive/MyDrive/Fake_Double.wav\n"
          ]
        }
      ]
    },
    {
      "cell_type": "code",
      "source": [
        "import librosa\n",
        "import numpy as np\n",
        "import soundfile as sf\n",
        "\n",
        "def create_and_reconstruct_spectrogram(input_filepath, output_filepath, n_mels=128, hop_length=128, sr=22050, n_iter=32):\n",
        "    \"\"\"\n",
        "    Creates a Mel spectrogram from an input audio file and reconstructs it back to audio.\n",
        "\n",
        "    Args:\n",
        "        input_filepath: Path to the input WAV file.\n",
        "        output_filepath: Path to save the reconstructed WAV file.\n",
        "        n_mels: Number of Mel bands to generate.\n",
        "        hop_length: Number of samples between successive frames.\n",
        "        sr: Sampling rate of the audio file.\n",
        "        n_iter: Number of iterations for Griffin-Lim algorithm.\n",
        "\n",
        "    Returns:\n",
        "        None\n",
        "    \"\"\"\n",
        "    # Load audio\n",
        "    audio, sr = librosa.load(input_filepath, sr=sr)\n",
        "\n",
        "    # Create Mel spectrogram\n",
        "    S = librosa.feature.melspectrogram(y=audio, sr=sr, n_mels=n_mels, hop_length=hop_length)\n",
        "    S_dB = librosa.power_to_db(S, ref=np.max)\n",
        "\n",
        "    # Convert Mel spectrogram to STFT using pseudo-inverse\n",
        "    mel_basis = librosa.filters.mel(sr=sr, n_fft=2048, n_mels=n_mels)\n",
        "    inv_mel_basis = np.linalg.pinv(mel_basis)\n",
        "    S_linear = np.dot(inv_mel_basis, librosa.db_to_power(S_dB))\n",
        "\n",
        "    # Use Griffin-Lim to reconstruct the audio signal\n",
        "    y_reconstructed = librosa.griffinlim(S_linear, hop_length=hop_length, n_iter=n_iter)\n",
        "\n",
        "    # Save reconstructed audio\n",
        "    sf.write(output_filepath, y_reconstructed, sr)\n",
        "\n",
        "# Paths for the input and output files\n",
        "input_filepath = '/content/drive/MyDrive/New Test.wav'\n",
        "output_filepath = '/content/drive/MyDrive/Clean Test.wav'\n",
        "\n",
        "# Create and reconstruct spectrogram\n",
        "create_and_reconstruct_spectrogram(input_filepath, output_filepath)\n"
      ],
      "metadata": {
        "id": "wWlI4L0jw1fm"
      },
      "execution_count": 23,
      "outputs": []
    }
  ]
}